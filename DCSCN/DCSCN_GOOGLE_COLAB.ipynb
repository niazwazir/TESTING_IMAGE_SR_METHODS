{
  "nbformat": 4,
  "nbformat_minor": 0,
  "metadata": {
    "colab": {
      "name": "DCSCN_GOOGLE_COLAB.ipynb",
      "provenance": []
    },
    "kernelspec": {
      "name": "python3",
      "display_name": "Python 3"
    },
    "accelerator": "GPU"
  },
  "cells": [
    {
      "cell_type": "code",
      "metadata": {
        "id": "WJUDSjFTWm_e"
      },
      "source": [
        "#HOW TO RUN DCSCN MODEL ON GOOGLE COLAB"
      ],
      "execution_count": null,
      "outputs": []
    },
    {
      "cell_type": "markdown",
      "metadata": {
        "id": "ymft6ovUFDEF"
      },
      "source": [
        "https://github.com/jiny2001/dcscn-super-resolution"
      ]
    },
    {
      "cell_type": "code",
      "metadata": {
        "id": "RHsikzLzCppV",
        "colab": {
          "base_uri": "https://localhost:8080/",
          "height": 153
        },
        "outputId": "da31889d-2a30-47d1-c8b6-d72e04604857"
      },
      "source": [
        "!git clone https://github.com/jiny2001/dcscn-super-resolution"
      ],
      "execution_count": null,
      "outputs": [
        {
          "output_type": "stream",
          "text": [
            "Cloning into 'dcscn-super-resolution'...\n",
            "remote: Enumerating objects: 47, done.\u001b[K\n",
            "remote: Counting objects: 100% (47/47), done.\u001b[K\n",
            "remote: Compressing objects: 100% (38/38), done.\u001b[K\n",
            "remote: Total 1227 (delta 18), reused 30 (delta 9), pack-reused 1180\u001b[K\n",
            "Receiving objects: 100% (1227/1227), 388.65 MiB | 43.61 MiB/s, done.\n",
            "Resolving deltas: 100% (493/493), done.\n",
            "Checking out files: 100% (476/476), done.\n"
          ],
          "name": "stdout"
        }
      ]
    },
    {
      "cell_type": "code",
      "metadata": {
        "id": "UlpRQKAXDmes",
        "colab": {
          "base_uri": "https://localhost:8080/",
          "height": 34
        },
        "outputId": "bfdbfc3a-bbe9-41e9-d986-99e81e7f28e9"
      },
      "source": [
        "cd dcscn-super-resolution"
      ],
      "execution_count": null,
      "outputs": [
        {
          "output_type": "stream",
          "text": [
            "/content/dcscn-super-resolution\n"
          ],
          "name": "stdout"
        }
      ]
    },
    {
      "cell_type": "code",
      "metadata": {
        "id": "ON-Eur44Dwww",
        "colab": {
          "base_uri": "https://localhost:8080/",
          "height": 68
        },
        "outputId": "0412cb44-79f2-4b6e-f354-251647ea5a29"
      },
      "source": [
        "!ls"
      ],
      "execution_count": null,
      "outputs": [
        {
          "output_type": "stream",
          "text": [
            "augmentation.py  DCSCN.py    evaluate.py  models\tREADME.md\n",
            "convert_y.py\t Dockerfile  helper\t  Pipfile\tsr.py\n",
            "data\t\t documents   LICENSE\t  Pipfile.lock\ttrain.py\n"
          ],
          "name": "stdout"
        }
      ]
    },
    {
      "cell_type": "code",
      "metadata": {
        "id": "Im1IoL2uqTyR",
        "colab": {
          "base_uri": "https://localhost:8080/",
          "height": 207
        },
        "outputId": "b2bfe39a-58cb-4e31-c3a7-6ae68941a8dd"
      },
      "source": [
        "!pip install scipy==1.1.0"
      ],
      "execution_count": null,
      "outputs": [
        {
          "output_type": "stream",
          "text": [
            "Collecting scipy==1.1.0\n",
            "\u001b[?25l  Downloading https://files.pythonhosted.org/packages/a8/0b/f163da98d3a01b3e0ef1cab8dd2123c34aee2bafbb1c5bffa354cc8a1730/scipy-1.1.0-cp36-cp36m-manylinux1_x86_64.whl (31.2MB)\n",
            "\u001b[K     |████████████████████████████████| 31.2MB 1.2MB/s \n",
            "\u001b[?25hRequirement already satisfied: numpy>=1.8.2 in /usr/local/lib/python3.6/dist-packages (from scipy==1.1.0) (1.16.4)\n",
            "\u001b[31mERROR: albumentations 0.1.12 has requirement imgaug<0.2.7,>=0.2.5, but you'll have imgaug 0.2.9 which is incompatible.\u001b[0m\n",
            "Installing collected packages: scipy\n",
            "  Found existing installation: scipy 1.3.0\n",
            "    Uninstalling scipy-1.3.0:\n",
            "      Successfully uninstalled scipy-1.3.0\n",
            "Successfully installed scipy-1.1.0\n"
          ],
          "name": "stdout"
        }
      ]
    },
    {
      "cell_type": "code",
      "metadata": {
        "id": "0vfXLQdfDx8a",
        "colab": {
          "base_uri": "https://localhost:8080/",
          "height": 1000
        },
        "outputId": "6f9fd3d0-c26a-464e-e3d4-0c9edc745822"
      },
      "source": [
        "!python evaluate.py --test_dataset=set14 --save_results=true"
      ],
      "execution_count": null,
      "outputs": [
        {
          "output_type": "stream",
          "text": [
            "Python Interpreter version:3.6\n",
            "tensorflow version:1.14.0\n",
            "numpy version:1.16.4\n",
            "WARNING: Logging before flag parsing goes to stderr.\n",
            "W0810 17:53:11.324042 140227648333696 deprecation_wrapper.py:119] From evaluate.py:110: The name tf.app.run is deprecated. Please use tf.compat.v1.app.run instead.\n",
            "\n",
            "W0810 17:53:11.355440 140227648333696 deprecation_wrapper.py:119] From /content/dcscn-super-resolution/helper/tf_graph.py:66: The name tf.ConfigProto is deprecated. Please use tf.compat.v1.ConfigProto instead.\n",
            "\n",
            "Session and graph initialized.\n",
            "W0810 17:53:11.355723 140227648333696 deprecation_wrapper.py:119] From /content/dcscn-super-resolution/helper/tf_graph.py:71: The name tf.InteractiveSession is deprecated. Please use tf.compat.v1.InteractiveSession instead.\n",
            "\n",
            "2019-08-10 17:53:11.370063: I tensorflow/core/platform/profile_utils/cpu_utils.cc:94] CPU Frequency: 2300000000 Hz\n",
            "2019-08-10 17:53:11.371914: I tensorflow/compiler/xla/service/service.cc:168] XLA service 0x2d32a00 executing computations on platform Host. Devices:\n",
            "2019-08-10 17:53:11.371953: I tensorflow/compiler/xla/service/service.cc:175]   StreamExecutor device (0): <undefined>, <undefined>\n",
            "2019-08-10 17:53:11.380656: I tensorflow/stream_executor/platform/default/dso_loader.cc:42] Successfully opened dynamic library libcuda.so.1\n",
            "2019-08-10 17:53:11.619307: I tensorflow/stream_executor/cuda/cuda_gpu_executor.cc:1005] successful NUMA node read from SysFS had negative value (-1), but there must be at least one NUMA node, so returning NUMA node zero\n",
            "2019-08-10 17:53:11.619841: I tensorflow/compiler/xla/service/service.cc:168] XLA service 0x2d32d80 executing computations on platform CUDA. Devices:\n",
            "2019-08-10 17:53:11.619869: I tensorflow/compiler/xla/service/service.cc:175]   StreamExecutor device (0): Tesla T4, Compute Capability 7.5\n",
            "2019-08-10 17:53:11.620095: I tensorflow/stream_executor/cuda/cuda_gpu_executor.cc:1005] successful NUMA node read from SysFS had negative value (-1), but there must be at least one NUMA node, so returning NUMA node zero\n",
            "2019-08-10 17:53:11.620452: I tensorflow/core/common_runtime/gpu/gpu_device.cc:1640] Found device 0 with properties: \n",
            "name: Tesla T4 major: 7 minor: 5 memoryClockRate(GHz): 1.59\n",
            "pciBusID: 0000:00:04.0\n",
            "2019-08-10 17:53:11.633056: I tensorflow/stream_executor/platform/default/dso_loader.cc:42] Successfully opened dynamic library libcudart.so.10.0\n",
            "2019-08-10 17:53:11.809198: I tensorflow/stream_executor/platform/default/dso_loader.cc:42] Successfully opened dynamic library libcublas.so.10.0\n",
            "2019-08-10 17:53:11.885815: I tensorflow/stream_executor/platform/default/dso_loader.cc:42] Successfully opened dynamic library libcufft.so.10.0\n",
            "2019-08-10 17:53:11.906900: I tensorflow/stream_executor/platform/default/dso_loader.cc:42] Successfully opened dynamic library libcurand.so.10.0\n",
            "2019-08-10 17:53:12.107643: I tensorflow/stream_executor/platform/default/dso_loader.cc:42] Successfully opened dynamic library libcusolver.so.10.0\n",
            "2019-08-10 17:53:12.229022: I tensorflow/stream_executor/platform/default/dso_loader.cc:42] Successfully opened dynamic library libcusparse.so.10.0\n",
            "2019-08-10 17:53:12.566238: I tensorflow/stream_executor/platform/default/dso_loader.cc:42] Successfully opened dynamic library libcudnn.so.7\n",
            "2019-08-10 17:53:12.566480: I tensorflow/stream_executor/cuda/cuda_gpu_executor.cc:1005] successful NUMA node read from SysFS had negative value (-1), but there must be at least one NUMA node, so returning NUMA node zero\n",
            "2019-08-10 17:53:12.567000: I tensorflow/stream_executor/cuda/cuda_gpu_executor.cc:1005] successful NUMA node read from SysFS had negative value (-1), but there must be at least one NUMA node, so returning NUMA node zero\n",
            "2019-08-10 17:53:12.567358: I tensorflow/core/common_runtime/gpu/gpu_device.cc:1763] Adding visible gpu devices: 0\n",
            "2019-08-10 17:53:12.569586: I tensorflow/stream_executor/platform/default/dso_loader.cc:42] Successfully opened dynamic library libcudart.so.10.0\n",
            "2019-08-10 17:53:12.571624: I tensorflow/core/common_runtime/gpu/gpu_device.cc:1181] Device interconnect StreamExecutor with strength 1 edge matrix:\n",
            "2019-08-10 17:53:12.571656: I tensorflow/core/common_runtime/gpu/gpu_device.cc:1187]      0 \n",
            "2019-08-10 17:53:12.571668: I tensorflow/core/common_runtime/gpu/gpu_device.cc:1200] 0:   N \n",
            "2019-08-10 17:53:12.577383: I tensorflow/stream_executor/cuda/cuda_gpu_executor.cc:1005] successful NUMA node read from SysFS had negative value (-1), but there must be at least one NUMA node, so returning NUMA node zero\n",
            "2019-08-10 17:53:12.577866: I tensorflow/stream_executor/cuda/cuda_gpu_executor.cc:1005] successful NUMA node read from SysFS had negative value (-1), but there must be at least one NUMA node, so returning NUMA node zero\n",
            "2019-08-10 17:53:12.578268: I tensorflow/core/common_runtime/gpu/gpu_device.cc:1326] Created TensorFlow device (/job:localhost/replica:0/task:0/device:GPU:0 with 14202 MB memory) -> physical GPU (device: 0, name: Tesla T4, pci bus id: 0000:00:04.0, compute capability: 7.5)\n",
            "W0810 17:53:12.579613 140227648333696 deprecation_wrapper.py:119] From /content/dcscn-super-resolution/DCSCN.py:102: The name tf.logging.WARN is deprecated. Please use tf.compat.v1.logging.WARN instead.\n",
            "\n",
            "From /content/dcscn-super-resolution/helper/utilty.py:107: The name tf.logging.set_verbosity is deprecated. Please use tf.compat.v1.logging.set_verbosity instead.\n",
            "\n",
            "\n",
            "DCSCN v2-------------------------------------\n",
            "2019/8/10 17:53:12 [dcscn_L12_F196to48_NIN_A64_PS_R1F32]\n",
            "From /content/dcscn-super-resolution/DCSCN.py:227: The name tf.placeholder is deprecated. Please use tf.compat.v1.placeholder instead.\n",
            "\n",
            "From /content/dcscn-super-resolution/helper/utilty.py:424: The name tf.summary.scalar is deprecated. Please use tf.compat.v1.summary.scalar instead.\n",
            "\n",
            "From /content/dcscn-super-resolution/helper/utilty.py:435: The name tf.summary.histogram is deprecated. Please use tf.compat.v1.summary.histogram instead.\n",
            "\n",
            "From /content/dcscn-super-resolution/helper/tf_graph.py:119: The name tf.variable_scope is deprecated. Please use tf.compat.v1.variable_scope instead.\n",
            "\n",
            "From /content/dcscn-super-resolution/helper/utilty.py:355: The name tf.truncated_normal is deprecated. Please use tf.random.truncated_normal instead.\n",
            "\n",
            "From /content/dcscn-super-resolution/helper/tf_graph.py:130: calling dropout (from tensorflow.python.ops.nn_ops) with keep_prob is deprecated and will be removed in a future version.\n",
            "Instructions for updating:\n",
            "Please use `rate` instead of `keep_prob`. Rate should be set to `rate = 1 - keep_prob`.\n",
            "Feature:196 166 148 133 120 108 97 86 76 66 57 48  Total: (1301)64 32 32 384 1  Complexity:1,754,942 Receptive Fields:29\n",
            "From /content/dcscn-super-resolution/helper/tf_graph.py:300: The name tf.summary.merge_all is deprecated. Please use tf.compat.v1.summary.merge_all instead.\n",
            "\n",
            "From /content/dcscn-super-resolution/helper/tf_graph.py:301: The name tf.summary.FileWriter is deprecated. Please use tf.compat.v1.summary.FileWriter instead.\n",
            "\n",
            "From /content/dcscn-super-resolution/helper/tf_graph.py:305: The name tf.train.Saver is deprecated. Please use tf.compat.v1.train.Saver instead.\n",
            "\n",
            "Model initialized.\n",
            "From /usr/local/lib/python3.6/dist-packages/tensorflow/python/training/saver.py:1276: checkpoint_exists (from tensorflow.python.training.checkpoint_management) is deprecated and will be removed in a future version.\n",
            "Instructions for updating:\n",
            "Use standard file APIs to check for files with this prefix.\n",
            "Model restored [ models/dcscn_L12_F196to48_NIN_A64_PS_R1F32.ckpt ].\n",
            "2019-08-10 17:53:15.444385: I tensorflow/stream_executor/platform/default/dso_loader.cc:42] Successfully opened dynamic library libcudnn.so.7\n",
            "2019-08-10 17:53:19.363113: I tensorflow/stream_executor/platform/default/dso_loader.cc:42] Successfully opened dynamic library libcublas.so.10.0\n",
            "Model Average [set14] PSNR:33.289122, SSIM:0.914005, Time (s): 5.049979\n"
          ],
          "name": "stdout"
        }
      ]
    },
    {
      "cell_type": "code",
      "metadata": {
        "id": "tqKomE7pD42x",
        "colab": {
          "base_uri": "https://localhost:8080/",
          "height": 1000
        },
        "outputId": "82e65ed0-3e6c-413c-c9b5-dcba96dc79d6"
      },
      "source": [
        "!python evaluate.py --test_dataset=set5 --save_results=true --layers=8 --filters=96"
      ],
      "execution_count": null,
      "outputs": [
        {
          "output_type": "stream",
          "text": [
            "Python Interpreter version:3.6\n",
            "tensorflow version:1.14.0\n",
            "numpy version:1.16.4\n",
            "WARNING: Logging before flag parsing goes to stderr.\n",
            "W0810 17:54:38.459771 140357816461184 deprecation_wrapper.py:119] From evaluate.py:110: The name tf.app.run is deprecated. Please use tf.compat.v1.app.run instead.\n",
            "\n",
            "W0810 17:54:38.470530 140357816461184 deprecation_wrapper.py:119] From /content/dcscn-super-resolution/helper/tf_graph.py:66: The name tf.ConfigProto is deprecated. Please use tf.compat.v1.ConfigProto instead.\n",
            "\n",
            "Session and graph initialized.\n",
            "W0810 17:54:38.470749 140357816461184 deprecation_wrapper.py:119] From /content/dcscn-super-resolution/helper/tf_graph.py:71: The name tf.InteractiveSession is deprecated. Please use tf.compat.v1.InteractiveSession instead.\n",
            "\n",
            "2019-08-10 17:54:38.475415: I tensorflow/core/platform/profile_utils/cpu_utils.cc:94] CPU Frequency: 2300000000 Hz\n",
            "2019-08-10 17:54:38.475604: I tensorflow/compiler/xla/service/service.cc:168] XLA service 0x1edaa00 executing computations on platform Host. Devices:\n",
            "2019-08-10 17:54:38.475632: I tensorflow/compiler/xla/service/service.cc:175]   StreamExecutor device (0): <undefined>, <undefined>\n",
            "2019-08-10 17:54:38.477670: I tensorflow/stream_executor/platform/default/dso_loader.cc:42] Successfully opened dynamic library libcuda.so.1\n",
            "2019-08-10 17:54:38.646639: I tensorflow/stream_executor/cuda/cuda_gpu_executor.cc:1005] successful NUMA node read from SysFS had negative value (-1), but there must be at least one NUMA node, so returning NUMA node zero\n",
            "2019-08-10 17:54:38.647154: I tensorflow/compiler/xla/service/service.cc:168] XLA service 0x1edad80 executing computations on platform CUDA. Devices:\n",
            "2019-08-10 17:54:38.647183: I tensorflow/compiler/xla/service/service.cc:175]   StreamExecutor device (0): Tesla T4, Compute Capability 7.5\n",
            "2019-08-10 17:54:38.647408: I tensorflow/stream_executor/cuda/cuda_gpu_executor.cc:1005] successful NUMA node read from SysFS had negative value (-1), but there must be at least one NUMA node, so returning NUMA node zero\n",
            "2019-08-10 17:54:38.647780: I tensorflow/core/common_runtime/gpu/gpu_device.cc:1640] Found device 0 with properties: \n",
            "name: Tesla T4 major: 7 minor: 5 memoryClockRate(GHz): 1.59\n",
            "pciBusID: 0000:00:04.0\n",
            "2019-08-10 17:54:38.648066: I tensorflow/stream_executor/platform/default/dso_loader.cc:42] Successfully opened dynamic library libcudart.so.10.0\n",
            "2019-08-10 17:54:38.649103: I tensorflow/stream_executor/platform/default/dso_loader.cc:42] Successfully opened dynamic library libcublas.so.10.0\n",
            "2019-08-10 17:54:38.650127: I tensorflow/stream_executor/platform/default/dso_loader.cc:42] Successfully opened dynamic library libcufft.so.10.0\n",
            "2019-08-10 17:54:38.650443: I tensorflow/stream_executor/platform/default/dso_loader.cc:42] Successfully opened dynamic library libcurand.so.10.0\n",
            "2019-08-10 17:54:38.651742: I tensorflow/stream_executor/platform/default/dso_loader.cc:42] Successfully opened dynamic library libcusolver.so.10.0\n",
            "2019-08-10 17:54:38.652702: I tensorflow/stream_executor/platform/default/dso_loader.cc:42] Successfully opened dynamic library libcusparse.so.10.0\n",
            "2019-08-10 17:54:38.655534: I tensorflow/stream_executor/platform/default/dso_loader.cc:42] Successfully opened dynamic library libcudnn.so.7\n",
            "2019-08-10 17:54:38.655666: I tensorflow/stream_executor/cuda/cuda_gpu_executor.cc:1005] successful NUMA node read from SysFS had negative value (-1), but there must be at least one NUMA node, so returning NUMA node zero\n",
            "2019-08-10 17:54:38.656082: I tensorflow/stream_executor/cuda/cuda_gpu_executor.cc:1005] successful NUMA node read from SysFS had negative value (-1), but there must be at least one NUMA node, so returning NUMA node zero\n",
            "2019-08-10 17:54:38.656409: I tensorflow/core/common_runtime/gpu/gpu_device.cc:1763] Adding visible gpu devices: 0\n",
            "2019-08-10 17:54:38.656463: I tensorflow/stream_executor/platform/default/dso_loader.cc:42] Successfully opened dynamic library libcudart.so.10.0\n",
            "2019-08-10 17:54:38.657388: I tensorflow/core/common_runtime/gpu/gpu_device.cc:1181] Device interconnect StreamExecutor with strength 1 edge matrix:\n",
            "2019-08-10 17:54:38.657413: I tensorflow/core/common_runtime/gpu/gpu_device.cc:1187]      0 \n",
            "2019-08-10 17:54:38.657425: I tensorflow/core/common_runtime/gpu/gpu_device.cc:1200] 0:   N \n",
            "2019-08-10 17:54:38.657725: I tensorflow/stream_executor/cuda/cuda_gpu_executor.cc:1005] successful NUMA node read from SysFS had negative value (-1), but there must be at least one NUMA node, so returning NUMA node zero\n",
            "2019-08-10 17:54:38.658176: I tensorflow/stream_executor/cuda/cuda_gpu_executor.cc:1005] successful NUMA node read from SysFS had negative value (-1), but there must be at least one NUMA node, so returning NUMA node zero\n",
            "2019-08-10 17:54:38.658579: I tensorflow/core/common_runtime/gpu/gpu_device.cc:1326] Created TensorFlow device (/job:localhost/replica:0/task:0/device:GPU:0 with 14202 MB memory) -> physical GPU (device: 0, name: Tesla T4, pci bus id: 0000:00:04.0, compute capability: 7.5)\n",
            "W0810 17:54:38.659904 140357816461184 deprecation_wrapper.py:119] From /content/dcscn-super-resolution/DCSCN.py:102: The name tf.logging.WARN is deprecated. Please use tf.compat.v1.logging.WARN instead.\n",
            "\n",
            "From /content/dcscn-super-resolution/helper/utilty.py:107: The name tf.logging.set_verbosity is deprecated. Please use tf.compat.v1.logging.set_verbosity instead.\n",
            "\n",
            "\n",
            "DCSCN v2-------------------------------------\n",
            "2019/8/10 17:54:38 [dcscn_L8_F96to48_NIN_A64_PS_R1F32]\n",
            "From /content/dcscn-super-resolution/DCSCN.py:227: The name tf.placeholder is deprecated. Please use tf.compat.v1.placeholder instead.\n",
            "\n",
            "From /content/dcscn-super-resolution/helper/utilty.py:424: The name tf.summary.scalar is deprecated. Please use tf.compat.v1.summary.scalar instead.\n",
            "\n",
            "From /content/dcscn-super-resolution/helper/utilty.py:435: The name tf.summary.histogram is deprecated. Please use tf.compat.v1.summary.histogram instead.\n",
            "\n",
            "From /content/dcscn-super-resolution/helper/tf_graph.py:119: The name tf.variable_scope is deprecated. Please use tf.compat.v1.variable_scope instead.\n",
            "\n",
            "From /content/dcscn-super-resolution/helper/utilty.py:355: The name tf.truncated_normal is deprecated. Please use tf.random.truncated_normal instead.\n",
            "\n",
            "From /content/dcscn-super-resolution/helper/tf_graph.py:130: calling dropout (from tensorflow.python.ops.nn_ops) with keep_prob is deprecated and will be removed in a future version.\n",
            "Instructions for updating:\n",
            "Please use `rate` instead of `keep_prob`. Rate should be set to `rate = 1 - keep_prob`.\n",
            "Feature:96 82 75 68 62 57 52 48  Total: (540)64 32 32 384 1  Complexity:687,268 Receptive Fields:21\n",
            "From /content/dcscn-super-resolution/helper/tf_graph.py:300: The name tf.summary.merge_all is deprecated. Please use tf.compat.v1.summary.merge_all instead.\n",
            "\n",
            "From /content/dcscn-super-resolution/helper/tf_graph.py:301: The name tf.summary.FileWriter is deprecated. Please use tf.compat.v1.summary.FileWriter instead.\n",
            "\n",
            "From /content/dcscn-super-resolution/helper/tf_graph.py:305: The name tf.train.Saver is deprecated. Please use tf.compat.v1.train.Saver instead.\n",
            "\n",
            "Model initialized.\n",
            "From /usr/local/lib/python3.6/dist-packages/tensorflow/python/training/saver.py:1276: checkpoint_exists (from tensorflow.python.training.checkpoint_management) is deprecated and will be removed in a future version.\n",
            "Instructions for updating:\n",
            "Use standard file APIs to check for files with this prefix.\n",
            "Model restored [ models/dcscn_L8_F96to48_NIN_A64_PS_R1F32.ckpt ].\n",
            "2019-08-10 17:54:40.109111: I tensorflow/stream_executor/platform/default/dso_loader.cc:42] Successfully opened dynamic library libcudnn.so.7\n",
            "2019-08-10 17:54:42.725357: I tensorflow/stream_executor/platform/default/dso_loader.cc:42] Successfully opened dynamic library libcublas.so.10.0\n",
            "Model Average [set5] PSNR:37.681601, SSIM:0.958455, Time (s): 2.342317\n"
          ],
          "name": "stdout"
        }
      ]
    },
    {
      "cell_type": "code",
      "metadata": {
        "id": "id74Mtu_EZ1K",
        "colab": {
          "base_uri": "https://localhost:8080/",
          "height": 1000
        },
        "outputId": "bd2e8366-d8d6-4504-c6ab-765cfb98ab5e"
      },
      "source": [
        "!python evaluate.py --scale=2 --layers=7 --filters=32 --min_filters=8 --filters_decay_gamma=1.2 --nin_filters=24 --nin_filters2=8 --reconstruct_layers=0 --self_ensemble=1 --batch_image_size=32 --pixel_shuffler_filters=1 --test_dataset=all"
      ],
      "execution_count": null,
      "outputs": [
        {
          "output_type": "stream",
          "text": [
            "Python Interpreter version:3.6\n",
            "tensorflow version:1.14.0\n",
            "numpy version:1.16.4\n",
            "WARNING: Logging before flag parsing goes to stderr.\n",
            "W0810 17:54:55.890531 140423027697536 deprecation_wrapper.py:119] From evaluate.py:110: The name tf.app.run is deprecated. Please use tf.compat.v1.app.run instead.\n",
            "\n",
            "W0810 17:54:55.901651 140423027697536 deprecation_wrapper.py:119] From /content/dcscn-super-resolution/helper/tf_graph.py:66: The name tf.ConfigProto is deprecated. Please use tf.compat.v1.ConfigProto instead.\n",
            "\n",
            "Session and graph initialized.\n",
            "W0810 17:54:55.901887 140423027697536 deprecation_wrapper.py:119] From /content/dcscn-super-resolution/helper/tf_graph.py:71: The name tf.InteractiveSession is deprecated. Please use tf.compat.v1.InteractiveSession instead.\n",
            "\n",
            "2019-08-10 17:54:55.906331: I tensorflow/core/platform/profile_utils/cpu_utils.cc:94] CPU Frequency: 2300000000 Hz\n",
            "2019-08-10 17:54:55.906516: I tensorflow/compiler/xla/service/service.cc:168] XLA service 0x206ea00 executing computations on platform Host. Devices:\n",
            "2019-08-10 17:54:55.906551: I tensorflow/compiler/xla/service/service.cc:175]   StreamExecutor device (0): <undefined>, <undefined>\n",
            "2019-08-10 17:54:55.908543: I tensorflow/stream_executor/platform/default/dso_loader.cc:42] Successfully opened dynamic library libcuda.so.1\n",
            "2019-08-10 17:54:56.070811: I tensorflow/stream_executor/cuda/cuda_gpu_executor.cc:1005] successful NUMA node read from SysFS had negative value (-1), but there must be at least one NUMA node, so returning NUMA node zero\n",
            "2019-08-10 17:54:56.071292: I tensorflow/compiler/xla/service/service.cc:168] XLA service 0x206ed80 executing computations on platform CUDA. Devices:\n",
            "2019-08-10 17:54:56.071321: I tensorflow/compiler/xla/service/service.cc:175]   StreamExecutor device (0): Tesla T4, Compute Capability 7.5\n",
            "2019-08-10 17:54:56.071587: I tensorflow/stream_executor/cuda/cuda_gpu_executor.cc:1005] successful NUMA node read from SysFS had negative value (-1), but there must be at least one NUMA node, so returning NUMA node zero\n",
            "2019-08-10 17:54:56.071989: I tensorflow/core/common_runtime/gpu/gpu_device.cc:1640] Found device 0 with properties: \n",
            "name: Tesla T4 major: 7 minor: 5 memoryClockRate(GHz): 1.59\n",
            "pciBusID: 0000:00:04.0\n",
            "2019-08-10 17:54:56.072288: I tensorflow/stream_executor/platform/default/dso_loader.cc:42] Successfully opened dynamic library libcudart.so.10.0\n",
            "2019-08-10 17:54:56.073340: I tensorflow/stream_executor/platform/default/dso_loader.cc:42] Successfully opened dynamic library libcublas.so.10.0\n",
            "2019-08-10 17:54:56.074367: I tensorflow/stream_executor/platform/default/dso_loader.cc:42] Successfully opened dynamic library libcufft.so.10.0\n",
            "2019-08-10 17:54:56.074684: I tensorflow/stream_executor/platform/default/dso_loader.cc:42] Successfully opened dynamic library libcurand.so.10.0\n",
            "2019-08-10 17:54:56.075955: I tensorflow/stream_executor/platform/default/dso_loader.cc:42] Successfully opened dynamic library libcusolver.so.10.0\n",
            "2019-08-10 17:54:56.076977: I tensorflow/stream_executor/platform/default/dso_loader.cc:42] Successfully opened dynamic library libcusparse.so.10.0\n",
            "2019-08-10 17:54:56.079918: I tensorflow/stream_executor/platform/default/dso_loader.cc:42] Successfully opened dynamic library libcudnn.so.7\n",
            "2019-08-10 17:54:56.080102: I tensorflow/stream_executor/cuda/cuda_gpu_executor.cc:1005] successful NUMA node read from SysFS had negative value (-1), but there must be at least one NUMA node, so returning NUMA node zero\n",
            "2019-08-10 17:54:56.080555: I tensorflow/stream_executor/cuda/cuda_gpu_executor.cc:1005] successful NUMA node read from SysFS had negative value (-1), but there must be at least one NUMA node, so returning NUMA node zero\n",
            "2019-08-10 17:54:56.080894: I tensorflow/core/common_runtime/gpu/gpu_device.cc:1763] Adding visible gpu devices: 0\n",
            "2019-08-10 17:54:56.080951: I tensorflow/stream_executor/platform/default/dso_loader.cc:42] Successfully opened dynamic library libcudart.so.10.0\n",
            "2019-08-10 17:54:56.081870: I tensorflow/core/common_runtime/gpu/gpu_device.cc:1181] Device interconnect StreamExecutor with strength 1 edge matrix:\n",
            "2019-08-10 17:54:56.081894: I tensorflow/core/common_runtime/gpu/gpu_device.cc:1187]      0 \n",
            "2019-08-10 17:54:56.081905: I tensorflow/core/common_runtime/gpu/gpu_device.cc:1200] 0:   N \n",
            "2019-08-10 17:54:56.082206: I tensorflow/stream_executor/cuda/cuda_gpu_executor.cc:1005] successful NUMA node read from SysFS had negative value (-1), but there must be at least one NUMA node, so returning NUMA node zero\n",
            "2019-08-10 17:54:56.082603: I tensorflow/stream_executor/cuda/cuda_gpu_executor.cc:1005] successful NUMA node read from SysFS had negative value (-1), but there must be at least one NUMA node, so returning NUMA node zero\n",
            "2019-08-10 17:54:56.082973: I tensorflow/core/common_runtime/gpu/gpu_device.cc:1326] Created TensorFlow device (/job:localhost/replica:0/task:0/device:GPU:0 with 14202 MB memory) -> physical GPU (device: 0, name: Tesla T4, pci bus id: 0000:00:04.0, compute capability: 7.5)\n",
            "W0810 17:54:56.084289 140423027697536 deprecation_wrapper.py:119] From /content/dcscn-super-resolution/DCSCN.py:102: The name tf.logging.WARN is deprecated. Please use tf.compat.v1.logging.WARN instead.\n",
            "\n",
            "From /content/dcscn-super-resolution/helper/utilty.py:107: The name tf.logging.set_verbosity is deprecated. Please use tf.compat.v1.logging.set_verbosity instead.\n",
            "\n",
            "\n",
            "DCSCN v2-------------------------------------\n",
            "2019/8/10 17:54:56 [dcscn_L7_F32to8_G1.20_NIN_A24_B8_PS_R1F32]\n",
            "From /content/dcscn-super-resolution/DCSCN.py:227: The name tf.placeholder is deprecated. Please use tf.compat.v1.placeholder instead.\n",
            "\n",
            "From /content/dcscn-super-resolution/helper/utilty.py:424: The name tf.summary.scalar is deprecated. Please use tf.compat.v1.summary.scalar instead.\n",
            "\n",
            "From /content/dcscn-super-resolution/helper/utilty.py:435: The name tf.summary.histogram is deprecated. Please use tf.compat.v1.summary.histogram instead.\n",
            "\n",
            "From /content/dcscn-super-resolution/helper/tf_graph.py:119: The name tf.variable_scope is deprecated. Please use tf.compat.v1.variable_scope instead.\n",
            "\n",
            "From /content/dcscn-super-resolution/helper/utilty.py:355: The name tf.truncated_normal is deprecated. Please use tf.random.truncated_normal instead.\n",
            "\n",
            "From /content/dcscn-super-resolution/helper/tf_graph.py:130: calling dropout (from tensorflow.python.ops.nn_ops) with keep_prob is deprecated and will be removed in a future version.\n",
            "Instructions for updating:\n",
            "Please use `rate` instead of `keep_prob`. Rate should be set to `rate = 1 - keep_prob`.\n",
            "Feature:32 26 22 18 14 11 8  Total: (131)24 8 8 4 1  Complexity:27,209 Receptive Fields:19\n",
            "From /content/dcscn-super-resolution/helper/tf_graph.py:300: The name tf.summary.merge_all is deprecated. Please use tf.compat.v1.summary.merge_all instead.\n",
            "\n",
            "From /content/dcscn-super-resolution/helper/tf_graph.py:301: The name tf.summary.FileWriter is deprecated. Please use tf.compat.v1.summary.FileWriter instead.\n",
            "\n",
            "From /content/dcscn-super-resolution/helper/tf_graph.py:305: The name tf.train.Saver is deprecated. Please use tf.compat.v1.train.Saver instead.\n",
            "\n",
            "Model initialized.\n",
            "From /usr/local/lib/python3.6/dist-packages/tensorflow/python/training/saver.py:1276: checkpoint_exists (from tensorflow.python.training.checkpoint_management) is deprecated and will be removed in a future version.\n",
            "Instructions for updating:\n",
            "Use standard file APIs to check for files with this prefix.\n",
            "Model restored [ models/dcscn_L7_F32to8_G1.20_NIN_A24_B8_PS_R1F32.ckpt ].\n",
            "2019-08-10 17:54:57.461395: I tensorflow/stream_executor/platform/default/dso_loader.cc:42] Successfully opened dynamic library libcudnn.so.7\n",
            "2019-08-10 17:54:59.180413: I tensorflow/stream_executor/platform/default/dso_loader.cc:42] Successfully opened dynamic library libcublas.so.10.0\n",
            "Model Average [set5] PSNR:37.148162, SSIM:0.956461, Time (s): 0.855829\n",
            "Model Average [set14] PSNR:32.743996, SSIM:0.908801, Time (s): 0.690654\n",
            "Model Average [bsd100] PSNR:31.605624, SSIM:0.890511, Time (s): 0.361042\n"
          ],
          "name": "stdout"
        }
      ]
    },
    {
      "cell_type": "code",
      "metadata": {
        "id": "36Snf5N1Eixt"
      },
      "source": [
        ""
      ],
      "execution_count": null,
      "outputs": []
    }
  ]
}